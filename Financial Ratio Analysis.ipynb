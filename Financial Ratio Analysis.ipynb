{
    "metadata": {
        "kernelspec": {
            "name": "python3",
            "display_name": "Python 3",
            "language": "python"
        },
        "language_info": {
            "name": "python",
            "version": "3.8.10",
            "mimetype": "text/x-python",
            "codemirror_mode": {
                "name": "ipython",
                "version": 3
            },
            "pygments_lexer": "ipython3",
            "nbconvert_exporter": "python",
            "file_extension": ".py"
        }
    },
    "nbformat_minor": 2,
    "nbformat": 4,
    "cells": [
        {
            "cell_type": "code",
            "source": [
                "import pandas as pd\r\n",
                "import pyodbc\r\n",
                "import numpy as np\r\n",
                "import matplotlib.pyplot as plt\r\n",
                "import seaborn as sns\r\n",
                "import sqlalchemy\r\n",
                "from sqlalchemy import create_engine\r\n",
                ""
            ],
            "metadata": {
                "azdata_cell_guid": "5081f650-e86c-48a6-b11a-5d15ae1674d1",
                "language": "python"
            },
            "outputs": [],
            "execution_count": 86
        },
        {
            "cell_type": "code",
            "source": [
                "conn = pyodbc.connect(\r\n",
                "       driver = \"ODBC Driver 17 for SQL Server\",\r\n",
                "       server = \"Shoto\",\r\n",
                "       database = \"Aviva_plc\",\r\n",
                "       trusted_connection = \"yes\")\r\n",
                "            \r\n",
                "cursor = conn.cursor()\r\n",
                "cursor.execute(\"SELECT * from [IS]\")\r\n",
                "                \r\n",
                "rows = cursor.fetchall()\r\n",
                "                \r\n",
                "# Get column names from cursor.description\r\n",
                "columns = [column[0] for column in cursor.description]\r\n",
                "# Create a DataFrame\r\n",
                "IS = pd.DataFrame.from_records(rows, columns=columns)\r\n",
                "new_header = IS.iloc[0]  # Grab the first row for the header\r\n",
                "IS = IS[1:]  # Take the data less the header row,\r\n",
                "IS.columns = new_header  # Set the header row as the IS header\r\n",
                "print(IS)\r\n",
                "\r\n",
                "engine = create_engine('mssql+pyodbc://Shoto/Aviva_plc?driver=ODBC+Driver+17+for+SQL+Server&trusted_connection=yes')\r\n",
                "\r\n",
                "# Step 3: Save DataFrame to SQL\r\n",
                "IS.to_sql('cleaned_IS', engine, if_exists='replace', index=False)\r\n",
                "\r\n",
                "print(\"DataFrame saved to SQL database successfully.\")\r\n",
                ""
            ],
            "metadata": {
                "azdata_cell_guid": "7f2cd21c-0fc6-4cf3-8bda-df737dd51cd3",
                "language": "python"
            },
            "outputs": [
                {
                    "output_type": "stream",
                    "name": "stdout",
                    "text": "0                     Fiscal data as of Dec 31 2023   2023   2022   2021\n1                          REVENUE AND GROSS PROFIT   None   None   None\n2                                     Total revenue  20145  14382  32638\n3                                OPERATING EXPENSES   None   None   None\n4                             Cost of revenue total    --     --     -- \n5       Selling, general and admin. expenses, total   1054    953   4102\n6                         Depreciation/amortization    244    267    409\n7                           Unusual expense(income)      3      7    -21\n8                   Other operating expenses, total    458   -581  14351\n9                           Total operating expense  18352  16520  31761\n10                                 Operating income   1793  -2138    877\n11                                       Other, net   -103   -101    -76\n12  INCOME TAXES, MINORITY INTEREST AND EXTRA ITEMS   None   None   None\n13                          Net income before taxes   1690  -2239    801\n14                       Provision for income taxes    584  -1209    465\n15                           Net income after taxes   1106  -1030    336\n16                                Minority interest    -21    -21    -70\n17                   Net income before extra. Items   1085  -1051    266\n18                        Total extraordinary items    --     --    1700\n19                                       Net income   1085  -1051   1966\n"
                },
                {
                    "output_type": "stream",
                    "name": "stdout",
                    "text": "DataFrame saved to SQL database successfully.\n"
                }
            ],
            "execution_count": 87
        },
        {
            "cell_type": "code",
            "source": [
                "cursor.execute(\"SELECT * from [CF]\")\r\n",
                "rows = cursor.fetchall()\r\n",
                "\r\n",
                "# Get column names from cursor.description\r\n",
                "columns = [column[0] for column in cursor.description]\r\n",
                "\r\n",
                "# Create a DataFrame\r\n",
                "CF = pd.DataFrame.from_records(rows, columns=columns)\r\n",
                "new_header = CF.iloc[0]  # Grab the first row for the header\r\n",
                "CF = CF[1:]  # Take the data less the header row\r\n",
                "CF.columns = new_header\r\n",
                "\r\n",
                "engine = create_engine('mssql+pyodbc://Shoto/Aviva_plc?driver=ODBC+Driver+17+for+SQL+Server&trusted_connection=yes')\r\n",
                "        \r\n",
                "# Step 3: Save DataFrame to SQL\r\n",
                "CF.to_sql('cleaned_CF', engine, if_exists='replace', index=False)\r\n",
                "\r\n",
                "print(\"DataFrame saved to SQL database successfully.\")\r\n",
                "print(CF)"
            ],
            "metadata": {
                "azdata_cell_guid": "c5f99001-0933-4333-89b7-6c07c7093c9b",
                "language": "python"
            },
            "outputs": [
                {
                    "output_type": "stream",
                    "name": "stdout",
                    "text": "DataFrame saved to SQL database successfully.\n0                Fiscal data as of Dec 31 2023   2023   2022   2021\n1                                   OPERATIONS   None   None   None\n2                                   Net income   1690  -2379    801\n3                       Depreciation/depletion     67     57     74\n4                               Non-Cash items    961    324   4149\n5                Cash taxes paid, supplemental     68    210    304\n6             Cash interest paid, supplemental    206    450    489\n7                   Changes in working capital  -5450  17881  -4804\n8                   Total cash from operations  -2732  15883    220\n9                                    INVESTING   None   None   None\n10                        Capital expenditures   -350    -99   -108\n11  Other investing and cash flow items, total   -      -240    182\n12                   Total cash from investing   -350   -339     74\n13                                   FINANCING   None   None   None\n14                   Financing cash flow items   -221   -471   -510\n15                   Total cash dividends paid   -895   -845  -1127\n16         Issuance (retirement) of stock, net   -368  -4144   -726\n17          Issuance (retirement) of debt, net   -336   -479  -2039\n18                   Total cash from financing  -1820  -5939  -4402\n19                    Foreign exchange effects    -22     93   -196\n20                          Net change in cash  -4924   9698  -4304\n"
                }
            ],
            "execution_count": 88
        },
        {
            "cell_type": "code",
            "source": [
                "cursor.execute(\"SELECT * from [BS]\")\r\n",
                "rows = cursor.fetchall()\r\n",
                "# Get column names from cursor.description\r\n",
                "columns = [column[0] for column in cursor.description]\r\n",
                "\r\n",
                "# Create a DataFrame\\r\\n\",\r\n",
                "BS = pd.DataFrame.from_records(rows, columns=columns)\r\n",
                "new_header = BS.iloc[0]  # Grab the first row for the header\r\n",
                "BS = BS[1:]  # Take the data less the header row\r\n",
                "BS.columns = new_header\r\n",
                "\r\n",
                "engine = create_engine('mssql+pyodbc://Shoto/Aviva_plc?driver=ODBC+Driver+17+for+SQL+Server&trusted_connection=yes')\r\n",
                "     \r\n",
                "# Step 3: Save DataFrame to SQL\r\n",
                "BS.to_sql('cleaned_BS', engine, if_exists='replace', index=False)\r\n",
                "            \r\n",
                "print(\"DataFrame saved to SQL database successfully.\")\r\n",
                "print(BS)"
            ],
            "metadata": {
                "language": "python",
                "azdata_cell_guid": "97db4605-f19c-4624-aadf-270d21fc50f7"
            },
            "outputs": [
                {
                    "output_type": "stream",
                    "name": "stdout",
                    "text": "DataFrame saved to SQL database successfully.\n0                   Fiscal data as of Dec 31 2023    2023    2022    2021\n1                                          ASSETS    None    None    None\n2                 Cash And Short Term Investments      --      --      --\n3                          Total Receivables, Net    3721    3480    3740\n4                                 Total Inventory     --      --      -- \n5                                Prepaid expenses     --      --      -- \n6                     Other current assets, total     --      --      -- \n7                            Total current assets     --      --      -- \n8                Property, plant & equipment, net     424     350     428\n9                                   Goodwill, net    2100    2102    1741\n10                               Intangibles, net     968     940     994\n11                          Long term investments  281105  256615  312477\n12                    Note receivable - long term      95     336     170\n13                         Other long term assets     --      --      -- \n14                                   Total assets  328843  309583  351924\n15                                    LIABILITIES    None    None    None\n16                               Accounts payable    3395    3528   11703\n17                               Accrued expenses     820     816     -- \n18                  Notes payable/short-term debt     672    1181    -   \n19  Current portion long-term debt/capital leases     --      --      -- \n20               Other current liabilities, total      15      40      35\n21                      Total current liabilities     --      --      -- \n22                           Total long term debt    6695    6889    7344\n23                                     Total debt    7367    8070    7344\n24                            Deferred income tax     453     703    1466\n25                              Minority interest     318     310     252\n26                       Other liabilities, total   12546   13383    3546\n27                              Total liabilities  319561  299679  335486\n28                            SHAREHOLDERS EQUITY    None    None    None\n29                                   Common stock     901     924     941\n30                     Additional paid-in capital      17    1263    1248\n31        Retained earnings (accumulated deficit)    7620    6886   14100\n32                        Treasury stock - common     -87     -85     -51\n33                         Unrealized gain (loss)      -3      -3     -- \n34                            Other equity, total     634     719    -   \n35                                   Total equity    9282    9904   16438\n36       Total liabilities & shareholders' equity  328843  309583  351924\n"
                }
            ],
            "execution_count": 89
        },
        {
            "cell_type": "markdown",
            "source": [
                "# **_Financial Ratio Analysis_**"
            ],
            "metadata": {
                "language": "python",
                "azdata_cell_guid": "b412d18f-082c-499e-b1d1-eb186dcd575c"
            },
            "attachments": {}
        },
        {
            "cell_type": "code",
            "source": [
                "print(\"Income Statement 2023\")\r\n",
                "IS2023 = pd.read_sql_query('select [Fiscal data as of Dec 31 2023], [2023] from [cleaned_IS]', engine)\r\n",
                "print(IS2023)\r\n",
                "\r\n",
                "print(\"Cash Flow Statement 2023\")\r\n",
                "CF2023 = pd.read_sql_query('select [Fiscal data as of Dec 31 2023], [2023] from [cleaned_CF]', engine)\r\n",
                "print(CF2023)\r\n",
                "\r\n",
                "print(\"Balance Sheet 2023\")\r\n",
                "BS2023 = pd.read_sql_query('select [Fiscal data as of Dec 31 2023], [2023] from [cleaned_BS]', engine)\r\n",
                "print(BS2023)"
            ],
            "metadata": {
                "azdata_cell_guid": "92aceefd-c326-4b97-8e58-60dc74e5a69a",
                "language": "python"
            },
            "outputs": [
                {
                    "output_type": "stream",
                    "name": "stdout",
                    "text": "Income Statement 2023\n"
                },
                {
                    "output_type": "stream",
                    "name": "stdout",
                    "text": "                      Fiscal data as of Dec 31 2023   2023\n0                          REVENUE AND GROSS PROFIT   None\n1                                     Total revenue  20145\n2                                OPERATING EXPENSES   None\n3                             Cost of revenue total    -- \n4       Selling, general and admin. expenses, total   1054\n5                         Depreciation/amortization    244\n6                           Unusual expense(income)      3\n7                   Other operating expenses, total    458\n8                           Total operating expense  18352\n9                                  Operating income   1793\n10                                       Other, net   -103\n11  INCOME TAXES, MINORITY INTEREST AND EXTRA ITEMS   None\n12                          Net income before taxes   1690\n13                       Provision for income taxes    584\n14                           Net income after taxes   1106\n15                                Minority interest    -21\n16                   Net income before extra. Items   1085\n17                        Total extraordinary items    -- \n18                                       Net income   1085\nCash Flow Statement 2023\n                 Fiscal data as of Dec 31 2023   2023\n0                                   OPERATIONS   None\n1                                   Net income   1690\n2                       Depreciation/depletion     67\n3                               Non-Cash items    961\n4                Cash taxes paid, supplemental     68\n5             Cash interest paid, supplemental    206\n6                   Changes in working capital  -5450\n7                   Total cash from operations  -2732\n8                                    INVESTING   None\n9                         Capital expenditures   -350\n10  Other investing and cash flow items, total   -   \n11                   Total cash from investing   -350\n12                                   FINANCING   None\n13                   Financing cash flow items   -221\n14                   Total cash dividends paid   -895\n15         Issuance (retirement) of stock, net   -368\n16          Issuance (retirement) of debt, net   -336\n17                   Total cash from financing  -1820\n18                    Foreign exchange effects    -22\n19                          Net change in cash  -4924\nBalance Sheet 2023\n                    Fiscal data as of Dec 31 2023    2023\n0                                          ASSETS    None\n1                 Cash And Short Term Investments      --\n2                          Total Receivables, Net    3721\n3                                 Total Inventory     -- \n4                                Prepaid expenses     -- \n5                     Other current assets, total     -- \n6                            Total current assets     -- \n7                Property, plant & equipment, net     424\n8                                   Goodwill, net    2100\n9                                Intangibles, net     968\n10                          Long term investments  281105\n11                    Note receivable - long term      95\n12                         Other long term assets     -- \n13                                   Total assets  328843\n14                                    LIABILITIES    None\n15                               Accounts payable    3395\n16                               Accrued expenses     820\n17                  Notes payable/short-term debt     672\n18  Current portion long-term debt/capital leases     -- \n19               Other current liabilities, total      15\n20                      Total current liabilities     -- \n21                           Total long term debt    6695\n22                                     Total debt    7367\n23                            Deferred income tax     453\n24                              Minority interest     318\n25                       Other liabilities, total   12546\n26                              Total liabilities  319561\n27                            SHAREHOLDERS EQUITY    None\n28                                   Common stock     901\n29                     Additional paid-in capital      17\n30        Retained earnings (accumulated deficit)    7620\n31                        Treasury stock - common     -87\n32                         Unrealized gain (loss)      -3\n33                            Other equity, total     634\n34                                   Total equity    9282\n35       Total liabilities & shareholders' equity  328843\n"
                }
            ],
            "execution_count": 90
        },
        {
            "cell_type": "markdown",
            "source": [
                "## **_Profitability Ratios_**"
            ],
            "metadata": {
                "azdata_cell_guid": "1ff98286-0265-4988-b458-187648a12905"
            },
            "attachments": {}
        },
        {
            "cell_type": "markdown",
            "source": [
                "### **Return on Asset**"
            ],
            "metadata": {
                "azdata_cell_guid": "4a994f6e-2724-4fe8-b320-ebdb3a4dc6d9"
            },
            "attachments": {}
        },
        {
            "cell_type": "code",
            "source": [
                "NI1 = pd.read_sql(\"select [2023] from [cleaned_IS] WHERE [Fiscal data as of Dec 31 2023] = 'Net income'\", engine)\r\n",
                "\r\n",
                "TA1 = pd.read_sql(\"select [2023] from [cleaned_BS] where [Fiscal data as of Dec 31 2023] = 'Total assets'\", engine)\r\n",
                "\r\n",
                "net_income1 = pd.to_numeric(NI1.iloc[0, 0])\r\n",
                "total_assets1 = pd.to_numeric(TA1.iloc[0, 0])\r\n",
                "\r\n",
                "ROA_value1 = (net_income1 / total_assets1)*100\r\n",
                "\r\n",
                "ROA1 = round(ROA_value1,2)\r\n",
                "\r\n",
                "print(\"Return on Asset 2023 = \",ROA1,\"%\" )\r\n",
                "\r\n",
                "#ROA of 2022\r\n",
                "NI2 = pd.read_sql(\"select [2022] from [cleaned_IS] WHERE [Fiscal data as of Dec 31 2023] = 'Net income'\", engine)\r\n",
                "\r\n",
                "TA2 = pd.read_sql(\"select [2022] from [cleaned_BS] where [Fiscal data as of Dec 31 2023] = 'Total assets'\", engine)\r\n",
                "\r\n",
                "net_income2 = pd.to_numeric(NI2.iloc[0, 0])\r\n",
                "total_assets2 = pd.to_numeric(TA2.iloc[0, 0])\r\n",
                "\r\n",
                "ROA_value2 = (net_income2 / total_assets2)*100\r\n",
                "\r\n",
                "ROA2 = round(ROA_value2,2)\r\n",
                "\r\n",
                "print(\"Return on Asset 2022 = \",ROA2,\"%\" )\r\n",
                "\r\n",
                "#ROA of 2021\r\n",
                "NI3 = pd.read_sql(\"select [2021] from [cleaned_IS] WHERE [Fiscal data as of Dec 31 2023] = 'Net income'\", engine)\r\n",
                "\r\n",
                "TA3 = pd.read_sql(\"select [2021] from [cleaned_BS] where [Fiscal data as of Dec 31 2023] = 'Total assets'\", engine)\r\n",
                "\r\n",
                "net_income3 = pd.to_numeric(NI3.iloc[0, 0])\r\n",
                "total_assets3 = pd.to_numeric(TA3.iloc[0, 0])\r\n",
                "\r\n",
                "ROA_value3 = (net_income3 / total_assets3)*100\r\n",
                "\r\n",
                "ROA3 = round(ROA_value3,2)\r\n",
                "\r\n",
                "print(\"Return on Asset 2021 = \",ROA3,\"%\" )"
            ],
            "metadata": {
                "azdata_cell_guid": "523cc6bb-e8db-427c-a3b8-4deffc90371d",
                "language": "python",
                "tags": []
            },
            "outputs": [
                {
                    "output_type": "stream",
                    "name": "stdout",
                    "text": "Return on Asset 2023 =  0.33 %\nReturn on Asset 2022 =  -0.34 %\nReturn on Asset 2021 =  0.56 %\n"
                }
            ],
            "execution_count": 91
        },
        {
            "cell_type": "markdown",
            "source": [
                "### **Net Profit Margin**"
            ],
            "metadata": {
                "language": "python",
                "azdata_cell_guid": "d08a338e-afff-487a-b5f9-d2f2720393ed"
            },
            "attachments": {}
        },
        {
            "cell_type": "code",
            "source": [
                "TR1 = pd.read_sql(\"select [2023] from [cleaned_IS] WHERE [Fiscal data as of Dec 31 2023] = 'Total revenue'\", engine)\r\n",
                "NetI1 = pd.read_sql(\"select [2023] from [cleaned_IS] WHERE [Fiscal data as of Dec 31 2023] = 'Net income'\", engine)\r\n",
                "total_revenue1 = pd.to_numeric(TR1.iloc[0, 0])\r\n",
                "net_incom1 = pd.to_numeric(NetI1.iloc[0, 0])           \r\n",
                "NPM_value1 = (net_income1 / total_revenue1)*100\r\n",
                "NPM1 = round(NPM_value1,2)\r\n",
                "\r\n",
                "print(\"Net Profit Margin 2023 = \",NPM1,\"%\" )\r\n",
                "\r\n",
                "TR2 = pd.read_sql(\"select [2022] from [cleaned_IS] WHERE [Fiscal data as of Dec 31 2023] = 'Total revenue'\", engine)\r\n",
                "NI2 = pd.read_sql(\"select [2022] from [cleaned_IS] WHERE [Fiscal data as of Dec 31 2023] = 'Net income'\", engine)\r\n",
                "total_revenue2 = pd.to_numeric(TR2.iloc[0, 0])\r\n",
                "netincome1 = pd.to_numeric(NI2.iloc[0, 0])           \r\n",
                "NPM_value2 = (netincome1 / total_revenue2)*100\r\n",
                "NPM2 = round(NPM_value2,2)\r\n",
                "\r\n",
                "print(\"Net Profit Margin 2022 = \",NPM2,\"%\" )\r\n",
                "\r\n",
                "TR3 = pd.read_sql(\"select [2021] from [cleaned_IS] WHERE [Fiscal data as of Dec 31 2023] = 'Total revenue'\", engine)\r\n",
                "NI3 = pd.read_sql(\"select [2021] from [cleaned_IS] WHERE [Fiscal data as of Dec 31 2023] = 'Net income'\", engine)\r\n",
                "total_revenue3 = pd.to_numeric(TR3.iloc[0, 0])\r\n",
                "net_income3 = pd.to_numeric(NI3.iloc[0, 0])           \r\n",
                "NPM_value3 = (net_income3 / total_revenue3)*100\r\n",
                "NPM3 = round(NPM_value3,2)\r\n",
                "\r\n",
                "print(\"Net Profit Margin 2021 = \",NPM3,\"%\" )\r\n",
                ""
            ],
            "metadata": {
                "language": "python",
                "azdata_cell_guid": "76a4ccab-5033-498d-9a69-8f8f8d2ba4ac"
            },
            "outputs": [
                {
                    "output_type": "stream",
                    "name": "stdout",
                    "text": "Net Profit Margin 2023 =  5.39 %\nNet Profit Margin 2022 = "
                },
                {
                    "output_type": "stream",
                    "name": "stdout",
                    "text": " -7.31 %\nNet Profit Margin 2021 =  6.02 %\n"
                }
            ],
            "execution_count": 92
        },
        {
            "cell_type": "markdown",
            "source": [
                "### **Return on Equity**"
            ],
            "metadata": {
                "language": "python",
                "azdata_cell_guid": "78e746ce-859e-4b8a-a31d-9e194f45d6fe"
            },
            "attachments": {}
        },
        {
            "cell_type": "code",
            "source": [
                "#ROE for 2023\r\n",
                "SE1 = pd.read_sql(\"select [2023] from [cleaned_BS] WHERE [Fiscal data as of Dec 31 2023] = 'Total equity'\", engine)\r\n",
                "Net1 = pd.read_sql(\"select [2023] from [cleaned_IS] WHERE [Fiscal data as of Dec 31 2023] = 'Net income'\", engine)\r\n",
                "shareholders_equity1 = pd.to_numeric(SE1.iloc[0,0])\r\n",
                "netin1 = pd.to_numeric(Net1.iloc[0, 0])\r\n",
                "ROE_value1 = (netin1 / shareholders_equity1) * 100\r\n",
                "ROE1 = round(ROE_value1,2)\r\n",
                "\r\n",
                "print(\"Retrun on Equity 2023 = \",ROE1,\"%\")\r\n",
                "\r\n",
                "#ROE for 2022\r\n",
                "SE2 = pd.read_sql(\"select [2022] from [cleaned_BS] WHERE [Fiscal data as of Dec 31 2023] = 'Total equity'\", engine)\r\n",
                "Net2 = pd.read_sql(\"select [2022] from [cleaned_IS] WHERE [Fiscal data as of Dec 31 2023] = 'Net income'\", engine)\r\n",
                "shareholders_equity2 = pd.to_numeric(SE2.iloc[0,0])\r\n",
                "netin2 = pd.to_numeric(Net2.iloc[0, 0])\r\n",
                "ROE_value2 = (netin2 / shareholders_equity2) * 100\r\n",
                "ROE2 = round(ROE_value2,2)\r\n",
                "\r\n",
                "print(\"Retrun on Equity 2022 = \",ROE2,\"%\")\r\n",
                "\r\n",
                "# ROE for 2021\r\n",
                "SE3 = pd.read_sql(\"select [2021] from [cleaned_BS] WHERE [Fiscal data as of Dec 31 2023] = 'Total equity'\", engine)\r\n",
                "Net1 = pd.read_sql(\"select [2021] from [cleaned_IS] WHERE [Fiscal data as of Dec 31 2023] = 'Net income'\", engine)\r\n",
                "shareholders_equity3 = pd.to_numeric(SE3.iloc[0,0])\r\n",
                "netin3 = pd.to_numeric(Net1.iloc[0, 0])\r\n",
                "ROE_value3 = (netin3 / shareholders_equity3) * 100\r\n",
                "ROE3 = round(ROE_value3,2)\r\n",
                "\r\n",
                "print(\"Retrun on Equity 2021 = \",ROE3,\"%\")"
            ],
            "metadata": {
                "azdata_cell_guid": "bcb63016-830c-4985-a652-c1d09bf59bf8",
                "language": "python"
            },
            "outputs": [
                {
                    "output_type": "stream",
                    "name": "stdout",
                    "text": "Retrun on Equity 2023 =  11.69 %\nRetrun on Equity 2022 =  -10.61 %\nRetrun on Equity 2021 = "
                },
                {
                    "output_type": "stream",
                    "name": "stdout",
                    "text": " 11.96 %\n"
                }
            ],
            "execution_count": 93
        },
        {
            "cell_type": "markdown",
            "source": [
                "## **_Solvency Ratios_**"
            ],
            "metadata": {
                "azdata_cell_guid": "c069971e-8880-4103-8c96-4dc5fa416011"
            },
            "attachments": {}
        },
        {
            "cell_type": "markdown",
            "source": [
                "### **Debt to Asset Ratio**"
            ],
            "metadata": {
                "language": "python",
                "azdata_cell_guid": "326b578e-4b95-40f4-ac62-86b12c76e26a"
            },
            "attachments": {}
        },
        {
            "cell_type": "code",
            "source": [
                "#DoA of 2023\r\n",
                "TL1 = pd.read_sql(\"select [2023] from [cleaned_BS] WHERE [Fiscal data as of Dec 31 2023] = 'Total liabilities'\", engine)\r\n",
                "TotA1 = pd.read_sql(\"select [2023] from [cleaned_BS] where [Fiscal data as of Dec 31 2023] = 'Total assets'\", engine)\r\n",
                "total_liabilities1 = pd.to_numeric(TL1.iloc[0, 0])\r\n",
                "total_asset1 = pd.to_numeric(TotA1.iloc[0, 0])\r\n",
                "DR_value1 = (total_liabilities1 / total_asset1)*100\r\n",
                "DR1 = round(DR_value1,2)\r\n",
                "\r\n",
                "print(\"Debt to Asset Ratio 2023 = \",DR1,\"%\" )\r\n",
                "\r\n",
                "#DoA of 2022\r\n",
                "TL2 = pd.read_sql(\"select [2022] from [cleaned_BS] WHERE [Fiscal data as of Dec 31 2023] = 'Total liabilities'\", engine)\r\n",
                "TotA2 = pd.read_sql(\"select [2022] from [cleaned_BS] where [Fiscal data as of Dec 31 2023] = 'Total assets'\", engine)\r\n",
                "total_liabilities2 = pd.to_numeric(TL2.iloc[0, 0])\r\n",
                "total_asset2 = pd.to_numeric(TotA2.iloc[0, 0])\r\n",
                "DR_value2 = (total_liabilities2 / total_asset2)*100\r\n",
                "DR2 = round(DR_value2,2)\r\n",
                "\r\n",
                "print(\"Debt to Asset Ratio 2022 = \",DR2,\"%\" )\r\n",
                "\r\n",
                "#DoA of 2021\r\n",
                "TL3 = pd.read_sql(\"select [2021] from [cleaned_BS] WHERE [Fiscal data as of Dec 31 2023] = 'Total liabilities'\", engine)\r\n",
                "TotA3 = pd.read_sql(\"select [2021] from [cleaned_BS] where [Fiscal data as of Dec 31 2023] = 'Total assets'\", engine)\r\n",
                "total_liabilities3 = pd.to_numeric(TL3.iloc[0, 0])\r\n",
                "total_asset3 = pd.to_numeric(TotA3.iloc[0, 0])\r\n",
                "DR_value3 = (total_liabilities3 / total_asset3)*100\r\n",
                "DR3 = round(DR_value3,2)\r\n",
                "\r\n",
                "print(\"Debt to Asset Ratio 2021 = \",DR3,\"%\" )"
            ],
            "metadata": {
                "language": "python",
                "azdata_cell_guid": "2f6333d1-14f9-4da4-b71f-e62e1c345ab7"
            },
            "outputs": [
                {
                    "output_type": "stream",
                    "name": "stdout",
                    "text": "Debt to Asset Ratio 2023 =  97.18 %\nDebt to Asset Ratio 2022 =  96.8 %\nDebt to Asset Ratio 2021 =  95.33 %\n"
                }
            ],
            "execution_count": 94
        },
        {
            "cell_type": "markdown",
            "source": [
                "### **Debt to Equity Ratio**"
            ],
            "metadata": {
                "language": "python",
                "azdata_cell_guid": "a4beea0c-21cf-4952-a970-441fd272fb50"
            },
            "attachments": {}
        },
        {
            "cell_type": "code",
            "source": [
                "#DoE of 2023\r\n",
                "DE_value1 = (total_liabilities1 / shareholders_equity1)\r\n",
                "DE1 = round(DE_value1,2)\r\n",
                "\r\n",
                "print(\"Debt to Equity Ratio 2023 = \",DE1 )\r\n",
                "\r\n",
                "#DoE of 2022\r\n",
                "DE_value2 = (total_liabilities2 / shareholders_equity2)\r\n",
                "DE2 = round(DE_value2,2)\r\n",
                "\r\n",
                "print(\"Debt to Equity Ratio 2022 = \",DE2 )\r\n",
                "\r\n",
                "#DoE of 2021\r\n",
                "DE_value3 = (total_liabilities3 / shareholders_equity3)\r\n",
                "DE3 = round(DE_value3,2)\r\n",
                "\r\n",
                "print(\"Debt to Equity Ratio 2021 = \",DE3 )"
            ],
            "metadata": {
                "language": "python",
                "azdata_cell_guid": "63373789-c7c2-4e17-8363-44abb19f9687",
                "tags": []
            },
            "outputs": [
                {
                    "output_type": "stream",
                    "name": "stdout",
                    "text": "Debt to Equity Ratio 2023 =  34.43\nDebt to Equity Ratio 2022 =  30.26\nDebt to Equity Ratio 2021 =  20.41\n"
                }
            ],
            "execution_count": 95
        },
        {
            "cell_type": "markdown",
            "source": [
                "## _**Investment Ratios**_"
            ],
            "metadata": {
                "language": "python",
                "azdata_cell_guid": "a1935dc3-6128-448c-b1a0-fa5c2258ab45"
            },
            "attachments": {}
        },
        {
            "cell_type": "code",
            "source": [
                "EPS1 = int(40)\r\n",
                "EPS2 = int(60)\r\n",
                "EPS3 = int(43)\r\n",
                "\r\n",
                "PriceperShare1 = int(434.70)\r\n",
                "PriceperShare2 = int(442.80)\r\n",
                "PriceperShare3 = int(405.48)\r\n",
                "\r\n",
                "PE1 = round(EPS1 / PriceperShare1, 2)\r\n",
                "print(PE1)\r\n",
                "\r\n",
                "PE2 = round(EPS2 / PriceperShare2, 2)\r\n",
                "print(PE2)\r\n",
                "\r\n",
                "PE3 = round(EPS3 / PriceperShare3, 2)\r\n",
                "print(PE3)\r\n",
                "\r\n",
                "Dividend_per_Share1 = int(20.70)\r\n",
                "Dividend_per_Share2 = int(14.70)\r\n",
                "Dividend_per_Share3 = int(14.00)\r\n",
                "\r\n",
                "#Payout Ratio\r\n",
                "Payoutratio1 = round(EPS1 / Dividend_per_Share1, 2)\r\n",
                "Payoutratio2 = round(EPS2 / Dividend_per_Share2, 2)\r\n",
                "Payoutratio3 = round(EPS3 / Dividend_per_Share3, 2)\r\n",
                "print(Payoutratio1)\r\n",
                "\r\n",
                "#Dividend Yield\r\n",
                "DY1 = round(Dividend_per_Share1 / PriceperShare1, 2)\r\n",
                "DY2 = round(Dividend_per_Share2 / PriceperShare2, 2)\r\n",
                "DY3 = round(Dividend_per_Share3 / PriceperShare3, 2)\r\n",
                "print(DY3)\r\n",
                ""
            ],
            "metadata": {
                "language": "python",
                "azdata_cell_guid": "fc5f199b-6e14-41b1-b402-20dfcae1a7a6"
            },
            "outputs": [
                {
                    "output_type": "stream",
                    "name": "stdout",
                    "text": "0.09\n0.14\n0.11\n2.0\n0.03\n"
                }
            ],
            "execution_count": 96
        },
        {
            "cell_type": "code",
            "source": [
                "#Creating DataFrame\r\n",
                "ratios_df = pd.DataFrame({\r\n",
                "    'Year': [2023, 2022, 2021],\r\n",
                "    'Return on Asset': [f\"{ROA1}%\", f\"{ROA2}%\", f\"{ROA3}%\"],\r\n",
                "    'Net Profit Margin': [f\"{NPM1}%\", f\"{NPM2}%\", f\"{NPM3}%\"],\r\n",
                "    'Return on Equity': [f\"{ROE1}%\", f\"{ROE2}%\", f\"{ROE3}%\"],\r\n",
                "    'Debt to Asset': [f\"{DR1}%\", f\"{DR2}%\", f\"{DR3}%\"],\r\n",
                "    'Debt to Equity': [f\"{DE1}%\", f\"{DE2}%\", f\"{DE3}%\"],\r\n",
                "    'Earnings per Share' : [EPS1,EPS2,EPS3],\r\n",
                "    'Price to Equity Ratio' : [PE1,PE2,PE3],\r\n",
                "    'Dividend per Share' : [Dividend_per_Share1, Dividend_per_Share2, Dividend_per_Share3],\r\n",
                "    'Payout Ratio' : [f\"{Payoutratio1}%\", f\"{Payoutratio2}%\",f\"{Payoutratio3}%\"],\r\n",
                "    'Stock Price per Share' : [PriceperShare1, PriceperShare2, PriceperShare3],\r\n",
                "    'Dividend Yield' : [f\"{DY1}%\", f\"{DY2}%\", f\"{DY3}%\"]\r\n",
                "\r\n",
                "})\r\n",
                "\r\n",
                "    \r\n",
                "print(ratios_df)\r\n",
                "\r\n",
                "#Save DataFrame to SQL\r\n",
                "ratios_df.to_sql('Fin_ratios_Aviva', engine, if_exists='replace', index=False)\r\n",
                "            \r\n",
                "print(\"DataFrame saved to SQL database successfully.\")"
            ],
            "metadata": {
                "language": "python",
                "azdata_cell_guid": "c60f7338-c5c5-4c5e-9fd7-383851e3ae63",
                "tags": []
            },
            "outputs": [
                {
                    "output_type": "stream",
                    "name": "stdout",
                    "text": "   Year Return on Asset Net Profit Margin Return on Equity Debt to Asset  \\\n0  2023           0.33%             5.39%           11.69%        97.18%   \n1  2022          -0.34%            -7.31%          -10.61%         96.8%   \n2  2021           0.56%             6.02%           11.96%        95.33%   \n\n  Debt to Equity  Earnings per Share  Price to Equity Ratio  \\\n0         34.43%                  40                   0.09   \n1         30.26%                  60                   0.14   \n2         20.41%                  43                   0.11   \n\n   Dividend per Share Payout Ratio  Stock Price per Share Dividend Yield  \n0                  20         2.0%                    434          0.05%  \n1                  14        4.29%                    442          0.03%  \n2                  14        3.07%                    405          0.03%  \n"
                },
                {
                    "output_type": "stream",
                    "name": "stdout",
                    "text": "DataFrame saved to SQL database successfully.\n"
                }
            ],
            "execution_count": 97
        },
        {
            "cell_type": "markdown",
            "source": [
                "###"
            ],
            "metadata": {
                "azdata_cell_guid": "85b1c24e-1a64-4779-9e4b-32265e96aedc"
            },
            "attachments": {}
        }
    ]
}