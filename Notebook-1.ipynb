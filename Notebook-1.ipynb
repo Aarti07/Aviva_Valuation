{
    "metadata": {
        "kernelspec": {
            "name": "python3",
            "display_name": "Python 3",
            "language": "python"
        },
        "language_info": {
            "name": "python",
            "version": "3.8.10",
            "mimetype": "text/x-python",
            "codemirror_mode": {
                "name": "ipython",
                "version": 3
            },
            "pygments_lexer": "ipython3",
            "nbconvert_exporter": "python",
            "file_extension": ".py"
        }
    },
    "nbformat_minor": 2,
    "nbformat": 4,
    "cells": [
        {
            "cell_type": "code",
            "source": [
                "import pandas as pd\r\n",
                "import pyodbc\r\n",
                "import numpy as np\r\n",
                "import matplotlib.pyplot as plt\r\n",
                "import seaborn as sns\r\n",
                "import sqlalchemy\r\n",
                "from sqlalchemy import create_engine"
            ],
            "metadata": {
                "azdata_cell_guid": "33f01bbd-93db-485d-be83-b288116d8d01",
                "language": "python",
                "tags": []
            },
            "outputs": [],
            "execution_count": 1
        },
        {
            "cell_type": "code",
            "source": [
                "conn = pyodbc.connect(\r\n",
                "    driver=\"{ODBC Driver 17 for SQL Server}\",\r\n",
                "    server=\"Shoto\",\r\n",
                "    database=\"Aviva_plc\",\r\n",
                "    trusted_connection=\"yes\"\r\n",
                ")\r\n",
                "\r\n",
                "cursor = conn.cursor()\r\n",
                "cursor.execute(\"SELECT * from [IS]\")\r\n",
                "\r\n",
                "rows = cursor.fetchall()\r\n",
                "\r\n",
                "# Get column names from cursor.description\r\n",
                "columns = [column[0] for column in cursor.description]\r\n",
                "\r\n",
                "# Create a DataFrame\r\n",
                "IS = pd.DataFrame.from_records(rows, columns=columns)\r\n",
                "new_header = IS.iloc[0]  # Grab the first row for the header\r\n",
                "IS = IS[1:]  # Take the data less the header row\r\n",
                "IS.columns = new_header  # Set the header row as the IS header\r\n",
                "print(IS)"
            ],
            "metadata": {
                "azdata_cell_guid": "43197a6b-13c6-4928-908c-4b9669e3ace6",
                "language": "python",
                "tags": []
            },
            "outputs": [
                {
                    "name": "stdout",
                    "text": "0                     Fiscal data as of Dec 31 2023   2023   2022   2021\n1                          REVENUE AND GROSS PROFIT   None   None   None\n2                                     Total revenue  20145  14382  32638\n3                                OPERATING EXPENSES   None   None   None\n4                             Cost of revenue total    --     --     -- \n5       Selling, general and admin. expenses, total   1054    953   4102\n6                         Depreciation/amortization    244    267    409\n7                           Unusual expense(income)      3      7    -21\n8                   Other operating expenses, total    458   -581  14351\n9                           Total operating expense  18352  16520  31761\n10                                 Operating income   1793  -2138    877\n11                                       Other, net   -103   -101    -76\n12  INCOME TAXES, MINORITY INTEREST AND EXTRA ITEMS   None   None   None\n13                          Net income before taxes   1690  -2239    801\n14                       Provision for income taxes    584  -1209    465\n15                           Net income after taxes   1106  -1030    336\n16                                Minority interest    -21    -21    -70\n17                   Net income before extra. Items   1085  -1051    266\n18                        Total extraordinary items    --     --    1700\n19                                       Net income   1085  -1051   1966\n",
                    "output_type": "stream"
                }
            ],
            "execution_count": 2
        },
        {
            "cell_type": "code",
            "source": [
                "# Note: Replace 'your_username' and 'your_password' with your actual credentials\r\n",
                "engine = create_engine('mssql+pyodbc://Shoto/Aviva_plc?driver=ODBC+Driver+17+for+SQL+Server&trusted_connection=yes')\r\n",
                "\r\n",
                "# Step 3: Save DataFrame to SQL\r\n",
                "IS.to_sql('cleaned_IS', engine, if_exists='replace', index=False)\r\n",
                "\r\n",
                "print(\"DataFrame saved to SQL database successfully.\")"
            ],
            "metadata": {
                "azdata_cell_guid": "df596129-4f4e-4954-8071-44e1fe466d27",
                "language": "python"
            },
            "outputs": [
                {
                    "name": "stdout",
                    "text": "DataFrame saved to SQL database successfully.\n",
                    "output_type": "stream"
                }
            ],
            "execution_count": 3
        },
        {
            "cell_type": "code",
            "source": [
                "cursor.execute(\"SELECT * from [CF]\")\r\n",
                "rows = cursor.fetchall()\r\n",
                "# Get column names from cursor.description\r\n",
                "columns = [column[0] for column in cursor.description]\r\n",
                "\r\n",
                "# Create a DataFrame\r\n",
                "CF = pd.DataFrame.from_records(rows, columns=columns)\r\n",
                "new_header = CF.iloc[0]  # Grab the first row for the header\r\n",
                "CF = CF[1:]  # Take the data less the header row\r\n",
                "CF.columns = new_header\r\n",
                "\r\n",
                "\r\n",
                "engine = create_engine('mssql+pyodbc://Shoto/Aviva_plc?driver=ODBC+Driver+17+for+SQL+Server&trusted_connection=yes')\r\n",
                "\r\n",
                "# Step 3: Save DataFrame to SQL\r\n",
                "CF.to_sql('cleaned_CF', engine, if_exists='replace', index=False)\r\n",
                "\r\n",
                "print(\"DataFrame saved to SQL database successfully.\")\r\n",
                "print(CF)"
            ],
            "metadata": {
                "azdata_cell_guid": "e0f45d64-25ed-4256-a9de-7dcb3858ff2c",
                "language": "python"
            },
            "outputs": [
                {
                    "name": "stdout",
                    "text": "DataFrame saved to SQL database successfully.\n0                Fiscal data as of Dec 31 2023   2023   2022   2021\n1                                   OPERATIONS   None   None   None\n2                                   Net income   1690  -2379    801\n3                       Depreciation/depletion     67     57     74\n4                               Non-Cash items    961    324   4149\n5                Cash taxes paid, supplemental     68    210    304\n6             Cash interest paid, supplemental    206    450    489\n7                   Changes in working capital  -5450  17881  -4804\n8                   Total cash from operations  -2732  15883    220\n9                                    INVESTING   None   None   None\n10                        Capital expenditures   -350    -99   -108\n11  Other investing and cash flow items, total   -      -240    182\n12                   Total cash from investing   -350   -339     74\n13                                   FINANCING   None   None   None\n14                   Financing cash flow items   -221   -471   -510\n15                   Total cash dividends paid   -895   -845  -1127\n16         Issuance (retirement) of stock, net   -368  -4144   -726\n17          Issuance (retirement) of debt, net   -336   -479  -2039\n18                   Total cash from financing  -1820  -5939  -4402\n19                    Foreign exchange effects    -22     93   -196\n20                          Net change in cash  -4924   9698  -4304\n",
                    "output_type": "stream"
                }
            ],
            "execution_count": 4
        },
        {
            "cell_type": "code",
            "source": [
                "cursor.execute(\"SELECT * from [BS]\")\r\n",
                "rows = cursor.fetchall()\r\n",
                "# Get column names from cursor.description\r\n",
                "columns = [column[0] for column in cursor.description]\r\n",
                "\r\n",
                "# Create a DataFrame\r\n",
                "BS = pd.DataFrame.from_records(rows, columns=columns)\r\n",
                "new_header = BS.iloc[0]  # Grab the first row for the header\r\n",
                "BS = BS[1:]  # Take the data less the header row\r\n",
                "BS.columns = new_header\r\n",
                "\r\n",
                "\r\n",
                "engine = create_engine('mssql+pyodbc://Shoto/Aviva_plc?driver=ODBC+Driver+17+for+SQL+Server&trusted_connection=yes')\r\n",
                "\r\n",
                "# Step 3: Save DataFrame to SQL\r\n",
                "BS.to_sql('cleaned_BS', engine, if_exists='replace', index=False)\r\n",
                "\r\n",
                "print(\"DataFrame saved to SQL database successfully.\")\r\n",
                "print(BS)"
            ],
            "metadata": {
                "azdata_cell_guid": "c5ab718b-5d43-405b-b187-d05e0a9b1022",
                "language": "python",
                "tags": []
            },
            "outputs": [
                {
                    "name": "stdout",
                    "text": "DataFrame saved to SQL database successfully.\n0                   Fiscal data as of Dec 31 2023    2023    2022    2021\n1                                          ASSETS    None    None    None\n2                 Cash And Short Term Investments      --      --      --\n3                          Total Receivables, Net    3721    3480    3740\n4                                 Total Inventory     --      --      -- \n5                                Prepaid expenses     --      --      -- \n6                     Other current assets, total     --      --      -- \n7                            Total current assets     --      --      -- \n8                Property, plant & equipment, net     424     350     428\n9                                   Goodwill, net    2100    2102    1741\n10                               Intangibles, net     968     940     994\n11                          Long term investments  281105  256615  312477\n12                    Note receivable - long term      95     336     170\n13                         Other long term assets     --      --      -- \n14                                   Total assets  328843  309583  351924\n15                                    LIABILITIES    None    None    None\n16                               Accounts payable    3395    3528   11703\n17                               Accrued expenses     820     816     -- \n18                  Notes payable/short-term debt     672    1181    -   \n19  Current portion long-term debt/capital leases     --      --      -- \n20               Other current liabilities, total      15      40      35\n21                      Total current liabilities     --      --      -- \n22                           Total long term debt    6695    6889    7344\n23                                     Total debt    7367    8070    7344\n24                            Deferred income tax     453     703    1466\n25                              Minority interest     318     310     252\n26                       Other liabilities, total   12546   13383    3546\n27                              Total liabilities  319561  299679  335486\n28                            SHAREHOLDERS EQUITY    None    None    None\n29                                   Common stock     901     924     941\n30                     Additional paid-in capital      17    1263    1248\n31        Retained earnings (accumulated deficit)    7620    6886   14100\n32                        Treasury stock - common     -87     -85     -51\n33                         Unrealized gain (loss)      -3      -3     -- \n34                            Other equity, total     634     719    -   \n35                                   Total equity    9282    9904   16438\n36       Total liabilities & shareholders' equity  328843  309583  351924\n",
                    "output_type": "stream"
                }
            ],
            "execution_count": 5
        },
        {
            "cell_type": "markdown",
            "source": [
                "**_Financial Ratio Analysis_**"
            ],
            "metadata": {
                "azdata_cell_guid": "38a3707d-e6c9-4940-ba37-415bd20a762c"
            },
            "attachments": {}
        },
        {
            "cell_type": "markdown",
            "source": [
                "|  |\n",
                "| --- |\n",
                "| Profitability ratios |\n",
                "| Return on Assets % |\n",
                "| Return on Capital Employed % |\n",
                "| Gross Margin % |\n",
                "| Net Profit Margin % |\n",
                "| Efficiency ratios |\n",
                "| Total Asset Turnover |\n",
                "| Fixed Asset Turnover |\n",
                "| Liquidity ratios |\n",
                "| Current Ratio |\n",
                "| Quick Ratio |\n",
                "| Solvency ratios |\n",
                "| Total Debt/Equity |\n",
                "| Total Liabilities/ Assets |\n",
                "| Investment Ratios |\n",
                "| Earnings per Share |\n",
                "| Price to Equity  |\n",
                "| Yearly Dividend per Share |\n",
                "| Payout Ratio |\n",
                "| Stock Price per Share |\n",
                "| Dividend Yield |"
            ],
            "metadata": {
                "azdata_cell_guid": "0d7fe060-d6c7-4480-a9fe-78db8141b272"
            },
            "attachments": {}
        },
        {
            "cell_type": "markdown",
            "source": [
                "<span style=\"color: rgb(33, 33, 33); font-family: Consolas, &quot;Courier New&quot;, monospace; font-size: 12px; white-space: pre;\">ROA</span><span style=\"font-family: Consolas, &quot;Courier New&quot;, monospace; font-size: 12px; white-space: pre; color: rgb(0, 0, 0);\">=</span> <span style=\"color: rgb(33, 33, 33); font-family: Consolas, &quot;Courier New&quot;, monospace; font-size: 12px; white-space: pre;\"> CF[</span><span style=\"font-family: Consolas, &quot;Courier New&quot;, monospace; font-size: 12px; white-space: pre; color: rgb(163, 21, 21);\">'Net income, 2023'</span><span style=\"color: rgb(33, 33, 33); font-family: Consolas, &quot;Courier New&quot;, monospace; font-size: 12px; white-space: pre;\">] </span> <span style=\"font-family: Consolas, &quot;Courier New&quot;, monospace; font-size: 12px; white-space: pre; color: rgb(0, 0, 0);\">/</span> <span style=\"color: rgb(33, 33, 33); font-family: Consolas, &quot;Courier New&quot;, monospace; font-size: 12px; white-space: pre;\"> cleaned_BS[</span><span style=\"font-family: Consolas, &quot;Courier New&quot;, monospace; font-size: 12px; white-space: pre; color: rgb(163, 21, 21);\">'Total assets, 2023'</span><span style=\"color: rgb(33, 33, 33); font-family: Consolas, &quot;Courier New&quot;, monospace; font-size: 12px; white-space: pre;\">] </span> <span style=\"font-family: Consolas, &quot;Courier New&quot;, monospace; font-size: 12px; white-space: pre; color: rgb(0, 0, 0);\">*</span><span style=\"font-family: Consolas, &quot;Courier New&quot;, monospace; font-size: 12px; white-space: pre; color: rgb(9, 136, 90);\">100</span>_R\\_\\_e\\_\\_t\\_\\_u\\_\\_r\\_\\_n_ _o\\_\\_n_ \\_A\\_\\_s\\_\\_s\\_\\_e\\_\\_t\\_\\_s\\_=<span class=\"vlist-r\" style=\"box-sizing: border-box; display: table-row; text-align: center; color: rgb(17, 17, 17); font-family: KaTeX_Main, &quot;Times New Roman&quot;, serif; font-size: 21.78px; letter-spacing: 0.05px; text-wrap: nowrap; background-color: rgb(255, 255, 255);\"><span class=\"vlist\" style=\"box-sizing: border-box; display: table-cell; vertical-align: bottom; position: relative; height: 0.872331em;\"><span class=\"\" style=\"box-sizing: border-box; display: block; height: 0px; position: relative; top: -2.655em;\"><span class=\"pstrut\" style=\"box-sizing: border-box; display: inline-block; overflow: hidden; width: 0px; height: 3em;\"></span><span class=\"sizing reset-size6 size3 mtight\" style=\"box-sizing: border-box; display: inline-block; font-size: 0.7em;\"><span class=\"mord mtight\" style=\"box-sizing: border-box;\"><span class=\"mord mathit mtight\" style=\"box-sizing: border-box; font-family: KaTeX_Math; font-style: italic; margin-right: 0.13889em;\">T</span><span class=\"mord mathit mtight\" style=\"box-sizing: border-box; font-family: KaTeX_Math; font-style: italic;\">o</span><span class=\"mord mathit mtight\" style=\"box-sizing: border-box; font-family: KaTeX_Math; font-style: italic;\">t</span><span class=\"mord mathit mtight\" style=\"box-sizing: border-box; font-family: KaTeX_Math; font-style: italic;\">a</span><span class=\"mord mathit mtight\" style=\"box-sizing: border-box; font-family: KaTeX_Math; font-style: italic; margin-right: 0.01968em;\">l</span><span class=\"mspace mtight\" style=\"box-sizing: border-box; display: inline-block;\"><span class=\"mtight\" style=\"box-sizing: border-box;\">&nbsp;</span></span><span class=\"mord mathit mtight\" style=\"box-sizing: border-box; font-family: KaTeX_Math; font-style: italic;\">A</span><span class=\"mord mathit mtight\" style=\"box-sizing: border-box; font-family: KaTeX_Math; font-style: italic;\">s</span><span class=\"mord mathit mtight\" style=\"box-sizing: border-box; font-family: KaTeX_Math; font-style: italic;\">s</span><span class=\"mord mathit mtight\" style=\"box-sizing: border-box; font-family: KaTeX_Math; font-style: italic;\">e</span><span class=\"mord mathit mtight\" style=\"box-sizing: border-box; font-family: KaTeX_Math; font-style: italic;\">t</span><span class=\"mord mathit mtight\" style=\"box-sizing: border-box; font-family: KaTeX_Math; font-style: italic;\">s</span></span></span></span><span class=\"\" style=\"box-sizing: border-box; display: block; height: 0px; position: relative; top: -3.15em;\"><span class=\"pstrut\" style=\"box-sizing: border-box; display: inline-block; overflow: hidden; width: 0px; height: 3em;\"></span><span class=\"stretchy\" style=\"box-sizing: border-box; width: 86.7778px; display: inline-block; position: relative; overflow: hidden; height: 0.2em;\"><svg width=\"400em\" height=\"0.2em\" viewBox=\"0 0 400000 200\" preserveAspectRatio=\"xMinYMin slice\"><path d=\"M0 80H400000 v40H0z M0 80H400000 v40H0z\"></path></svg></span></span><span class=\"\" style=\"box-sizing: border-box; display: block; height: 0px; position: relative; top: -3.394em;\"><span class=\"pstrut\" style=\"box-sizing: border-box; display: inline-block; overflow: hidden; width: 0px; height: 3em;\"></span><span class=\"sizing reset-size6 size3 mtight\" style=\"box-sizing: border-box; display: inline-block; font-size: 0.7em;\"><span class=\"mord mtight\" style=\"box-sizing: border-box;\"><span class=\"mord mathit mtight\" style=\"box-sizing: border-box; font-family: KaTeX_Math; font-style: italic; margin-right: 0.10903em;\">N</span><span class=\"mord mathit mtight\" style=\"box-sizing: border-box; font-family: KaTeX_Math; font-style: italic;\">e</span><span class=\"mord mathit mtight\" style=\"box-sizing: border-box; font-family: KaTeX_Math; font-style: italic;\">t</span><span class=\"mspace mtight\" style=\"box-sizing: border-box; display: inline-block;\"><span class=\"mtight\" style=\"box-sizing: border-box;\">&nbsp;</span></span><span class=\"mord mathit mtight\" style=\"box-sizing: border-box; font-family: KaTeX_Math; font-style: italic; margin-right: 0.07847em;\">I</span><span class=\"mord mathit mtight\" style=\"box-sizing: border-box; font-family: KaTeX_Math; font-style: italic;\">n</span><span class=\"mord mathit mtight\" style=\"box-sizing: border-box; font-family: KaTeX_Math; font-style: italic;\">c</span><span class=\"mord mathit mtight\" style=\"box-sizing: border-box; font-family: KaTeX_Math; font-style: italic;\">o</span><span class=\"mord mathit mtight\" style=\"box-sizing: border-box; font-family: KaTeX_Math; font-style: italic;\">m</span><span class=\"mord mathit mtight\" style=\"box-sizing: border-box; font-family: KaTeX_Math; font-style: italic;\">e</span></span></span></span></span><span class=\"vlist-s\" style=\"box-sizing: border-box; display: table-cell; vertical-align: bottom; font-size: 1px; width: 2px;\">​<br><br></span></span>"
            ],
            "metadata": {
                "azdata_cell_guid": "8c926028-02ac-419b-8be1-c989793d9f80"
            },
            "attachments": {}
        },
        {
            "cell_type": "code",
            "source": [
                "IS2023 = pd.read_sql_query('select [Fiscal data as of Dec 31 2023], [2023] from [cleaned_IS]', engine)\r\n",
                "print(IS2023)"
            ],
            "metadata": {
                "azdata_cell_guid": "5b5a570c-b461-4b39-99d5-acc89ae9ca58",
                "language": "python",
                "tags": []
            },
            "outputs": [
                {
                    "name": "stdout",
                    "text": "                      Fiscal data as of Dec 31 2023   2023\n0                          REVENUE AND GROSS PROFIT   None\n1                                     Total revenue  20145\n2                                OPERATING EXPENSES   None\n3                             Cost of revenue total    -- \n4       Selling, general and admin. expenses, total   1054\n5                         Depreciation/amortization    244\n6                           Unusual expense(income)      3\n7                   Other operating expenses, total    458\n8                           Total operating expense  18352\n9                                  Operating income   1793\n10                                       Other, net   -103\n11  INCOME TAXES, MINORITY INTEREST AND EXTRA ITEMS   None\n12                          Net income before taxes   1690\n13                       Provision for income taxes    584\n14                           Net income after taxes   1106\n15                                Minority interest    -21\n16                   Net income before extra. Items   1085\n17                        Total extraordinary items    -- \n18                                       Net income   1085\n",
                    "output_type": "stream"
                }
            ],
            "execution_count": 6
        },
        {
            "cell_type": "code",
            "source": [
                "CF2023 = pd.read_sql_query('select [Fiscal data as of Dec 31 2023], [2023] from [cleaned_CF]', engine)\r\n",
                "print(CF2023)"
            ],
            "metadata": {
                "azdata_cell_guid": "db21d32a-1664-4977-91cd-8b15c6b339de",
                "language": "python",
                "tags": [
                    "hide_input"
                ]
            },
            "outputs": [
                {
                    "name": "stdout",
                    "text": "                 Fiscal data as of Dec 31 2023   2023\n0                                   OPERATIONS   None\n1                                   Net income   1690\n2                       Depreciation/depletion     67\n3                               Non-Cash items    961\n4                Cash taxes paid, supplemental     68\n5             Cash interest paid, supplemental    206\n6                   Changes in working capital  -5450\n7                   Total cash from operations  -2732\n8                                    INVESTING   None\n9                         Capital expenditures   -350\n10  Other investing and cash flow items, total   -   \n11                   Total cash from investing   -350\n12                                   FINANCING   None\n13                   Financing cash flow items   -221\n14                   Total cash dividends paid   -895\n15         Issuance (retirement) of stock, net   -368\n16          Issuance (retirement) of debt, net   -336\n17                   Total cash from financing  -1820\n18                    Foreign exchange effects    -22\n19                          Net change in cash  -4924\n",
                    "output_type": "stream"
                }
            ],
            "execution_count": 7
        },
        {
            "cell_type": "code",
            "source": [
                "BS2023 = pd.read_sql_query('select [Fiscal data as of Dec 31 2023], [2023] from [cleaned_BS]', engine)\r\n",
                "print(BS2023)\r\n",
                ""
            ],
            "metadata": {
                "azdata_cell_guid": "b2d057ca-bc88-4ce5-a35e-503c6bd4d1e2",
                "language": "python"
            },
            "outputs": [
                {
                    "name": "stdout",
                    "text": "                    Fiscal data as of Dec 31 2023    2023\n0                                          ASSETS    None\n1                 Cash And Short Term Investments      --\n2                          Total Receivables, Net    3721\n3                                 Total Inventory     -- \n4                                Prepaid expenses     -- \n5                     Other current assets, total     -- \n6                            Total current assets     -- \n7                Property, plant & equipment, net     424\n8                                   Goodwill, net    2100\n9                                Intangibles, net     968\n10                          Long term investments  281105\n11                    Note receivable - long term      95\n12                         Other long term assets     -- \n13                                   Total assets  328843\n14                                    LIABILITIES    None\n15                               Accounts payable    3395\n16                               Accrued expenses     820\n17                  Notes payable/short-term debt     672\n18  Current portion long-term debt/capital leases     -- \n19               Other current liabilities, total      15\n20                      Total current liabilities     -- \n21                           Total long term debt    6695\n22                                     Total debt    7367\n23                            Deferred income tax     453\n24                              Minority interest     318\n25                       Other liabilities, total   12546\n26                              Total liabilities  319561\n27                            SHAREHOLDERS EQUITY    None\n28                                   Common stock     901\n29                     Additional paid-in capital      17\n30        Retained earnings (accumulated deficit)    7620\n31                        Treasury stock - common     -87\n32                         Unrealized gain (loss)      -3\n33                            Other equity, total     634\n34                                   Total equity    9282\n35       Total liabilities & shareholders' equity  328843\n",
                    "output_type": "stream"
                }
            ],
            "execution_count": 8
        },
        {
            "cell_type": "markdown",
            "source": [
                "**<mark>Profitability Ratios</mark>**"
            ],
            "metadata": {
                "azdata_cell_guid": "764b0b57-cd01-4b20-a1a9-e5ee3a44dfd4"
            },
            "attachments": {}
        },
        {
            "cell_type": "code",
            "source": [
                "#Retrun on Asset Calculation\r\n",
                "NI = pd.read_sql(\"select [2023] from [cleaned_IS] WHERE [Fiscal data as of Dec 31 2023] = 'Net income'\", engine)\r\n",
                "\r\n",
                "TA = pd.read_sql(\"select [2023] from [cleaned_BS] where [Fiscal data as of Dec 31 2023] = 'Total assets'\", engine)\r\n",
                "\r\n",
                "net_income = pd.to_numeric(NI.iloc[0, 0])\r\n",
                "total_assets = pd.to_numeric(TA.iloc[0, 0])\r\n",
                "\r\n",
                "\r\n",
                "ROA_value = (net_income / total_assets)*100\r\n",
                "\r\n",
                "\r\n",
                "ROA = round(ROA_value,2)\r\n",
                "\r\n",
                "print(ROA,\"%\")\r\n",
                ""
            ],
            "metadata": {
                "azdata_cell_guid": "a051ed3e-4a84-48b3-8d1f-f0f0d4def48b",
                "language": "python"
            },
            "outputs": [
                {
                    "name": "stdout",
                    "text": "0.33 %\n",
                    "output_type": "stream"
                }
            ],
            "execution_count": 52
        },
        {
            "cell_type": "code",
            "source": [
                "#Net Profit Margin Calculation\r\n",
                "TR = pd.read_sql(\"select [2023] from [cleaned_IS] WHERE [Fiscal data as of Dec 31 2023] = 'Total revenue'\", engine)\r\n",
                "\r\n",
                "total_revenue = pd.to_numeric(TR.iloc[0, 0])\r\n",
                "\r\n",
                "\r\n",
                "NPM_value = (net_income / total_revenue)*100\r\n",
                "NPM = round(NPM_value,2)\r\n",
                "\r\n",
                "print(NPM,\"%\")"
            ],
            "metadata": {
                "language": "python",
                "azdata_cell_guid": "c81e9694-c95c-40ef-aec4-281500ef8118"
            },
            "outputs": [
                {
                    "name": "stdout",
                    "text": "5.39 %\n",
                    "output_type": "stream"
                }
            ],
            "execution_count": 55
        },
        {
            "cell_type": "code",
            "source": [
                "#Return on Equity Calculation\r\n",
                "SE = pd.read_sql(\"select [2023] from [cleaned_BS] WHERE [Fiscal data as of Dec 31 2023] = 'Total equity'\", engine)\r\n",
                "\r\n",
                "shareholders_equity = pd.to_numeric(SE.iloc[0,0])\r\n",
                "\r\n",
                "\r\n",
                "ROE_value = (net_income / shareholders_equity) * 100\r\n",
                "ROE = round(ROE_value,2)\r\n",
                "\r\n",
                "print(ROE,\"%\")"
            ],
            "metadata": {
                "azdata_cell_guid": "39660000-d33b-4882-aa78-ed5f7e50b2e7",
                "language": "python"
            },
            "outputs": [
                {
                    "name": "stdout",
                    "text": "11.69 %\n",
                    "output_type": "stream"
                }
            ],
            "execution_count": 58
        },
        {
            "cell_type": "markdown",
            "source": [
                "**<mark>Liquidity Ratios</mark>**"
            ],
            "metadata": {
                "azdata_cell_guid": "b5c889fe-45f5-432e-a7da-64161963f1e9"
            },
            "attachments": {}
        },
        {
            "cell_type": "code",
            "source": [
                "#Current Ratio Calculation\n",
                "CA = pd.read_sql(\"select [2023] from [cleaned_BS] WHERE [Fiscal data as of Dec 31 2023] = 'Total equity'\", engine)\n",
                "shareholders_equity = pd.to_numeric(SE.iloc[0,0])\n",
                "current_ratio_value = (current_assets / current_l\n",
                "\n",
                "CL = pd.read_sql(\"select [2023] from [cleaned_BS] WHERE [Fiscal data as of Dec 31 2023] = 'Total equity'\", engine)\n",
                "shareholders_equity = pd.to_numeric(SE.iloc[0,0])iabilities)"
            ],\n",
                "
            "metadata": {
                "azdata_cell_guid": "c469349f-0ad9-4c45-bcd5-be56f146842a",
                "language": "python"
            },
            "outputs": [],
            "execution_count": null
        }
    ]
}